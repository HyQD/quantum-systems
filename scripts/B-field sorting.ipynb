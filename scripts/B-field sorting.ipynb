{
 "cells": [
  {
   "cell_type": "markdown",
   "metadata": {},
   "source": [
    "# Sorting the eigenvalues of HO subject to B"
   ]
  },
  {
   "cell_type": "markdown",
   "metadata": {},
   "source": [
    "The eigenvalues of a 2D harmonic oscillator under the influence of a B-field is given by\n",
    "$$\n",
    "\\epsilon_{nm} = \\hbar \\Omega (2n + |m| + 1) - \\frac{\\hbar\\omega_c}{2} m\n",
    "$$\n",
    "Importantly,\n",
    "$\\Omega^2 = \\omega_0^2 + \\omega_c^2/4$\n",
    "We are teenagers, so setting $\\omega_0 = \\hbar = 1$, while $\\omega_c$ is dependent on the B-field. "
   ]
  },
  {
   "cell_type": "markdown",
   "metadata": {},
   "source": [
    "The eigenfunctions are\n",
    "$$\n",
    " \\psi_{nm}(r,\\theta) = a e^{im\\theta}\\sqrt{\\frac{n!}{\\pi\\left(n + |m| \\right)!}}\\left(ar\\right)^{|m|}L_{n}^{|m|}\\left(a^2r^2 \\right)e^{-(a^2r^2)/2}\n",
    "$$\n",
    "This is from project 1, FYS-KJM9480, høst 2015. Here $a=\\sqrt{m_e\\omega_0/\\hbar}$. With the B-field we use $\\Omega$ instead of $\\omega_0$."
   ]
  },
  {
   "cell_type": "markdown",
   "metadata": {},
   "source": [
    "Compute integrals by substitution, $ar\\to x$. Then we should be able to compute the coulomb-elements in the manner of Anisimovas and only multipy with some \"scaling factor\" $\\omega_0$ or $\\Omega$."
   ]
  },
  {
   "cell_type": "code",
   "execution_count": 1,
   "metadata": {},
   "outputs": [],
   "source": [
    "import numpy as np\n",
    "from matplotlib import pyplot as plt\n",
    "import pandas as pd"
   ]
  },
  {
   "cell_type": "code",
   "execution_count": 2,
   "metadata": {},
   "outputs": [],
   "source": [
    "from quantum_systems.quantum_dots.two_dim.coulomb_elements import coulomb_ho"
   ]
  },
  {
   "cell_type": "code",
   "execution_count": 3,
   "metadata": {},
   "outputs": [],
   "source": [
    "def get_shell_energy(n, m, omega_c=0, omega_0=1):\n",
    "    omega = np.sqrt(omega_0 * omega_0 + omega_c * omega_c / 4)\n",
    "    return omega * (2 * n + abs(m) + 1) - (omega_c * m) / 2"
   ]
  },
  {
   "cell_type": "code",
   "execution_count": 4,
   "metadata": {},
   "outputs": [],
   "source": [
    "def construct_dataframe(ns, ms, omega_c):\n",
    "\n",
    "    df = pd.DataFrame()\n",
    "    i = 0\n",
    "    for n_ in ns:\n",
    "        for m_ in ms:\n",
    "            df.loc[i, \"n\"] = n_\n",
    "            df.loc[i, \"m\"] = m_\n",
    "            df.loc[i, \"E\"] = get_shell_energy(n_, m_, omega_c)\n",
    "            i += 1\n",
    "\n",
    "    df = df.sort_values(\"E\").reset_index().drop(\"index\", axis=1)\n",
    "\n",
    "    df[\"level\"] = 0\n",
    "    energies = df[\"E\"].round(decimals=8).unique()\n",
    "\n",
    "    for i, energy in enumerate(energies):\n",
    "        energy_position = np.where(np.abs(df[\"E\"] - energy) < 1e-6)[0]\n",
    "        df.loc[energy_position, \"level\"] = i\n",
    "\n",
    "    min_num_states = len(ns) * (len(ns) - 1) // 2\n",
    "    level_of_orbital_cap = df.iloc[min_num_states][\"level\"]\n",
    "    while df.iloc[min_num_states][\"level\"] == level_of_orbital_cap:\n",
    "        min_num_states += 1\n",
    "\n",
    "    return df.iloc[:min_num_states]"
   ]
  },
  {
   "cell_type": "code",
   "execution_count": 5,
   "metadata": {},
   "outputs": [],
   "source": [
    "num_orbitals = 7\n",
    "ns = np.arange(num_orbitals)\n",
    "ms = np.arange(-num_orbitals, num_orbitals + 1)\n",
    "df = construct_dataframe(ns, ms, omega_c=1 / np.sqrt(2))"
   ]
  },
  {
   "cell_type": "code",
   "execution_count": 9,
   "metadata": {},
   "outputs": [
    {
     "data": {
      "text/plain": [
       "0     0\n",
       "1     1\n",
       "2    -1\n",
       "3     2\n",
       "4     0\n",
       "5     3\n",
       "6     1\n",
       "7     4\n",
       "8    -2\n",
       "9     2\n",
       "10   -1\n",
       "11    5\n",
       "12    0\n",
       "13   -3\n",
       "14    6\n",
       "15    3\n",
       "16   -2\n",
       "17    4\n",
       "18    7\n",
       "19    1\n",
       "20    5\n",
       "21   -4\n",
       "22    2\n",
       "23   -1\n",
       "Name: m, dtype: int64"
      ]
     },
     "execution_count": 9,
     "metadata": {},
     "output_type": "execute_result"
    }
   ],
   "source": [
    "df[\"m\"].astype(int)"
   ]
  },
  {
   "cell_type": "code",
   "execution_count": 21,
   "metadata": {},
   "outputs": [
    {
     "data": {
      "text/html": [
       "<div>\n",
       "<style scoped>\n",
       "    .dataframe tbody tr th:only-of-type {\n",
       "        vertical-align: middle;\n",
       "    }\n",
       "\n",
       "    .dataframe tbody tr th {\n",
       "        vertical-align: top;\n",
       "    }\n",
       "\n",
       "    .dataframe thead th {\n",
       "        text-align: right;\n",
       "    }\n",
       "</style>\n",
       "<table border=\"1\" class=\"dataframe\">\n",
       "  <thead>\n",
       "    <tr style=\"text-align: right;\">\n",
       "      <th></th>\n",
       "      <th>n</th>\n",
       "      <th>m</th>\n",
       "      <th>E</th>\n",
       "      <th>level</th>\n",
       "    </tr>\n",
       "  </thead>\n",
       "  <tbody>\n",
       "    <tr>\n",
       "      <th>0</th>\n",
       "      <td>0.0</td>\n",
       "      <td>0.0</td>\n",
       "      <td>1.060660</td>\n",
       "      <td>0</td>\n",
       "    </tr>\n",
       "    <tr>\n",
       "      <th>1</th>\n",
       "      <td>0.0</td>\n",
       "      <td>1.0</td>\n",
       "      <td>1.767767</td>\n",
       "      <td>1</td>\n",
       "    </tr>\n",
       "    <tr>\n",
       "      <th>2</th>\n",
       "      <td>0.0</td>\n",
       "      <td>-1.0</td>\n",
       "      <td>2.474874</td>\n",
       "      <td>2</td>\n",
       "    </tr>\n",
       "    <tr>\n",
       "      <th>3</th>\n",
       "      <td>0.0</td>\n",
       "      <td>2.0</td>\n",
       "      <td>2.474874</td>\n",
       "      <td>2</td>\n",
       "    </tr>\n",
       "    <tr>\n",
       "      <th>4</th>\n",
       "      <td>0.0</td>\n",
       "      <td>3.0</td>\n",
       "      <td>3.181981</td>\n",
       "      <td>3</td>\n",
       "    </tr>\n",
       "    <tr>\n",
       "      <th>5</th>\n",
       "      <td>1.0</td>\n",
       "      <td>0.0</td>\n",
       "      <td>3.181981</td>\n",
       "      <td>3</td>\n",
       "    </tr>\n",
       "    <tr>\n",
       "      <th>6</th>\n",
       "      <td>1.0</td>\n",
       "      <td>1.0</td>\n",
       "      <td>3.889087</td>\n",
       "      <td>4</td>\n",
       "    </tr>\n",
       "    <tr>\n",
       "      <th>7</th>\n",
       "      <td>0.0</td>\n",
       "      <td>4.0</td>\n",
       "      <td>3.889087</td>\n",
       "      <td>4</td>\n",
       "    </tr>\n",
       "    <tr>\n",
       "      <th>8</th>\n",
       "      <td>0.0</td>\n",
       "      <td>-2.0</td>\n",
       "      <td>3.889087</td>\n",
       "      <td>4</td>\n",
       "    </tr>\n",
       "    <tr>\n",
       "      <th>9</th>\n",
       "      <td>0.0</td>\n",
       "      <td>5.0</td>\n",
       "      <td>4.596194</td>\n",
       "      <td>5</td>\n",
       "    </tr>\n",
       "    <tr>\n",
       "      <th>10</th>\n",
       "      <td>1.0</td>\n",
       "      <td>2.0</td>\n",
       "      <td>4.596194</td>\n",
       "      <td>5</td>\n",
       "    </tr>\n",
       "    <tr>\n",
       "      <th>11</th>\n",
       "      <td>1.0</td>\n",
       "      <td>-1.0</td>\n",
       "      <td>4.596194</td>\n",
       "      <td>5</td>\n",
       "    </tr>\n",
       "  </tbody>\n",
       "</table>\n",
       "</div>"
      ],
      "text/plain": [
       "      n    m         E  level\n",
       "0   0.0  0.0  1.060660      0\n",
       "1   0.0  1.0  1.767767      1\n",
       "2   0.0 -1.0  2.474874      2\n",
       "3   0.0  2.0  2.474874      2\n",
       "4   0.0  3.0  3.181981      3\n",
       "5   1.0  0.0  3.181981      3\n",
       "6   1.0  1.0  3.889087      4\n",
       "7   0.0  4.0  3.889087      4\n",
       "8   0.0 -2.0  3.889087      4\n",
       "9   0.0  5.0  4.596194      5\n",
       "10  1.0  2.0  4.596194      5\n",
       "11  1.0 -1.0  4.596194      5"
      ]
     },
     "execution_count": 21,
     "metadata": {},
     "output_type": "execute_result"
    }
   ],
   "source": [
    "df.iloc[:min_num_states]"
   ]
  },
  {
   "cell_type": "code",
   "execution_count": 5,
   "metadata": {},
   "outputs": [],
   "source": [
    "def get_one_body_elements(num_orbitals, dtype=np.float64, df=None, omega_c=0):\n",
    "\n",
    "    if df == None:\n",
    "        # Just make it the frick large enough. Note very elegant.\n",
    "        ns = np.arange(num_orbitals)\n",
    "        ms = np.arange(-num_orbitals, num_orbitals + 1)\n",
    "        df = construct_dataframe(ns, ms, omega_c=omega_c)\n",
    "\n",
    "    h = np.zeros((num_orbitals, num_orbitals), dtype=dtype)\n",
    "\n",
    "    for p in range(num_orbitals):\n",
    "        h[p, p] = df.loc[p, \"E\"]"
   ]
  },
  {
   "cell_type": "code",
   "execution_count": 6,
   "metadata": {},
   "outputs": [],
   "source": [
    "def get_coulomb_elements(num_orbitals, dtype=np.float64, df=None, omega_c=0):\n",
    "\n",
    "    if df == None:\n",
    "        # Just make it the frick large enough\n",
    "        ns = np.arange(num_orbitals)\n",
    "        ms = np.arange(-num_orbitals, num_orbitals + 1)\n",
    "        df = construct_dataframe(ns, ms, omega_c=omega_c)\n",
    "\n",
    "    shape = tuple([num_orbitals] * 4)\n",
    "    u = np.zeros(shape, dtype=dtype)\n",
    "\n",
    "    for p in range(num_orbitals):\n",
    "        n_p, m_p = df.loc[p, [\"n\", \"m\"]].values\n",
    "        for q in range(num_orbitals):\n",
    "            n_q, m_q = df.loc[q, [\"n\", \"m\"]].values\n",
    "            for r in range(num_orbitals):\n",
    "                n_r, m_r = df.loc[r, [\"n\", \"m\"]].values\n",
    "                for s in range(num_orbitals):\n",
    "                    n_s, m_s = df.loc[s, [\"n\", \"m\"]].values\n",
    "\n",
    "                    u[p, q, r, s] = coulomb_ho(\n",
    "                        n_p, m_p, n_q, m_q, n_r, m_r, n_s, m_s\n",
    "                    )\n",
    "    return u"
   ]
  },
  {
   "cell_type": "code",
   "execution_count": 7,
   "metadata": {},
   "outputs": [],
   "source": [
    "# Try to reproduce spaghetti plot\n",
    "omega_c = np.linspace(0, 4, 101)\n",
    "ns = np.arange(5)\n",
    "ms = np.arange(-5, 6)"
   ]
  },
  {
   "cell_type": "code",
   "execution_count": 8,
   "metadata": {},
   "outputs": [
    {
     "data": {
      "image/png": "[encoded data removed]",
      "text/plain": [
       "<Figure size 432x288 with 1 Axes>"
      ]
     },
     "metadata": {
      "needs_background": "light"
     },
     "output_type": "display_data"
    }
   ],
   "source": [
    "plt.figure()\n",
    "plt.ylim((0, 6))\n",
    "for n in ns:\n",
    "    for m in ms:\n",
    "        energy = get_shell_energy(n, m, omega_c)\n",
    "        plt.plot(omega_c, energy, \"b\")\n",
    "plt.show()"
   ]
  }
 ],
 "metadata": {
  "kernelspec": {
   "display_name": "Python 3",
   "language": "python",
   "name": "python3"
  },
  "language_info": {
   "codemirror_mode": {
    "name": "ipython",
    "version": 3
   },
   "file_extension": ".py",
   "mimetype": "text/x-python",
   "name": "python",
   "nbconvert_exporter": "python",
   "pygments_lexer": "ipython3",
   "version": "3.7.2"
  }
 },
 "nbformat": 4,
 "nbformat_minor": 2
}
